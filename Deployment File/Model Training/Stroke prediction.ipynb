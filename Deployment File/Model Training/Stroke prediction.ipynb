{
 "cells": [
  {
   "cell_type": "markdown",
   "metadata": {},
   "source": [
    "# Import Libs"
   ]
  },
  {
   "cell_type": "code",
   "execution_count": 1,
   "metadata": {},
   "outputs": [],
   "source": [
    "# Ignore  the warnings\n",
    "import warnings\n",
    "warnings.filterwarnings('always')\n",
    "warnings.filterwarnings('ignore')\n",
    "\n",
    "# data visualisation and manipulation\n",
    "import numpy as np\n",
    "import pandas as pd\n",
    "import matplotlib.pyplot as plt\n",
    "from matplotlib import style\n",
    "import seaborn as sns\n",
    "import missingno as msno\n",
    "import pandas_profiling as pdp\n",
    "\n",
    "#configure\n",
    "# sets matplotlib to inline and displays graphs below the corressponding cell.\n",
    "%matplotlib inline  \n",
    "style.use('fivethirtyeight')\n",
    "sns.set(style='whitegrid',color_codes=True)\n",
    "\n",
    "#import the necessary modelling algos.\n",
    "\n",
    "#classifiaction.\n",
    "from sklearn.linear_model import LogisticRegression\n",
    "from sklearn.svm import LinearSVC,SVC\n",
    "from sklearn.neighbors import KNeighborsClassifier\n",
    "from sklearn.ensemble import RandomForestClassifier,GradientBoostingClassifier,AdaBoostClassifier\n",
    "from sklearn.tree import DecisionTreeClassifier\n",
    "from sklearn.naive_bayes import GaussianNB\n",
    "import xgboost as xgb\n",
    "import lightgbm as lgbm\n",
    "import catboost as cb\n",
    "\n",
    "#model selection\n",
    "from sklearn.model_selection import train_test_split,cross_validate\n",
    "from sklearn.model_selection import KFold\n",
    "from sklearn.model_selection import GridSearchCV\n",
    "\n",
    "#preprocessing\n",
    "from sklearn.preprocessing import MinMaxScaler,StandardScaler,LabelEncoder\n",
    "\n",
    "#evaluation metrics\n",
    "from sklearn.metrics import mean_squared_log_error,mean_squared_error, r2_score,mean_absolute_error # for regression\n",
    "from sklearn.metrics import accuracy_score,precision_score,recall_score,f1_score  # for classification\n",
    "from sklearn.metrics import classification_report\n",
    "from sklearn.metrics import confusion_matrix\n",
    "from sklearn.model_selection import cross_val_score"
   ]
  },
  {
   "cell_type": "markdown",
   "metadata": {},
   "source": [
    "# Data loading and overview"
   ]
  },
  {
   "cell_type": "code",
   "execution_count": 2,
   "metadata": {},
   "outputs": [
    {
     "data": {
      "text/html": [
       "<div>\n",
       "<style scoped>\n",
       "    .dataframe tbody tr th:only-of-type {\n",
       "        vertical-align: middle;\n",
       "    }\n",
       "\n",
       "    .dataframe tbody tr th {\n",
       "        vertical-align: top;\n",
       "    }\n",
       "\n",
       "    .dataframe thead th {\n",
       "        text-align: right;\n",
       "    }\n",
       "</style>\n",
       "<table border=\"1\" class=\"dataframe\">\n",
       "  <thead>\n",
       "    <tr style=\"text-align: right;\">\n",
       "      <th></th>\n",
       "      <th>id</th>\n",
       "      <th>gender</th>\n",
       "      <th>age</th>\n",
       "      <th>hypertension</th>\n",
       "      <th>heart_disease</th>\n",
       "      <th>ever_married</th>\n",
       "      <th>work_type</th>\n",
       "      <th>Residence_type</th>\n",
       "      <th>avg_glucose_level</th>\n",
       "      <th>bmi</th>\n",
       "      <th>smoking_status</th>\n",
       "      <th>stroke</th>\n",
       "    </tr>\n",
       "  </thead>\n",
       "  <tbody>\n",
       "    <tr>\n",
       "      <th>0</th>\n",
       "      <td>9046</td>\n",
       "      <td>Male</td>\n",
       "      <td>67.0</td>\n",
       "      <td>0</td>\n",
       "      <td>1</td>\n",
       "      <td>Yes</td>\n",
       "      <td>Private</td>\n",
       "      <td>Urban</td>\n",
       "      <td>228.69</td>\n",
       "      <td>36.6</td>\n",
       "      <td>formerly smoked</td>\n",
       "      <td>1</td>\n",
       "    </tr>\n",
       "    <tr>\n",
       "      <th>1</th>\n",
       "      <td>51676</td>\n",
       "      <td>Female</td>\n",
       "      <td>61.0</td>\n",
       "      <td>0</td>\n",
       "      <td>0</td>\n",
       "      <td>Yes</td>\n",
       "      <td>Self-employed</td>\n",
       "      <td>Rural</td>\n",
       "      <td>202.21</td>\n",
       "      <td>NaN</td>\n",
       "      <td>never smoked</td>\n",
       "      <td>1</td>\n",
       "    </tr>\n",
       "    <tr>\n",
       "      <th>2</th>\n",
       "      <td>31112</td>\n",
       "      <td>Male</td>\n",
       "      <td>80.0</td>\n",
       "      <td>0</td>\n",
       "      <td>1</td>\n",
       "      <td>Yes</td>\n",
       "      <td>Private</td>\n",
       "      <td>Rural</td>\n",
       "      <td>105.92</td>\n",
       "      <td>32.5</td>\n",
       "      <td>never smoked</td>\n",
       "      <td>1</td>\n",
       "    </tr>\n",
       "    <tr>\n",
       "      <th>3</th>\n",
       "      <td>60182</td>\n",
       "      <td>Female</td>\n",
       "      <td>49.0</td>\n",
       "      <td>0</td>\n",
       "      <td>0</td>\n",
       "      <td>Yes</td>\n",
       "      <td>Private</td>\n",
       "      <td>Urban</td>\n",
       "      <td>171.23</td>\n",
       "      <td>34.4</td>\n",
       "      <td>smokes</td>\n",
       "      <td>1</td>\n",
       "    </tr>\n",
       "    <tr>\n",
       "      <th>4</th>\n",
       "      <td>1665</td>\n",
       "      <td>Female</td>\n",
       "      <td>79.0</td>\n",
       "      <td>1</td>\n",
       "      <td>0</td>\n",
       "      <td>Yes</td>\n",
       "      <td>Self-employed</td>\n",
       "      <td>Rural</td>\n",
       "      <td>174.12</td>\n",
       "      <td>24.0</td>\n",
       "      <td>never smoked</td>\n",
       "      <td>1</td>\n",
       "    </tr>\n",
       "  </tbody>\n",
       "</table>\n",
       "</div>"
      ],
      "text/plain": [
       "      id  gender   age  hypertension  heart_disease ever_married  \\\n",
       "0   9046    Male  67.0             0              1          Yes   \n",
       "1  51676  Female  61.0             0              0          Yes   \n",
       "2  31112    Male  80.0             0              1          Yes   \n",
       "3  60182  Female  49.0             0              0          Yes   \n",
       "4   1665  Female  79.0             1              0          Yes   \n",
       "\n",
       "       work_type Residence_type  avg_glucose_level   bmi   smoking_status  \\\n",
       "0        Private          Urban             228.69  36.6  formerly smoked   \n",
       "1  Self-employed          Rural             202.21   NaN     never smoked   \n",
       "2        Private          Rural             105.92  32.5     never smoked   \n",
       "3        Private          Urban             171.23  34.4           smokes   \n",
       "4  Self-employed          Rural             174.12  24.0     never smoked   \n",
       "\n",
       "   stroke  \n",
       "0       1  \n",
       "1       1  \n",
       "2       1  \n",
       "3       1  \n",
       "4       1  "
      ]
     },
     "execution_count": 2,
     "metadata": {},
     "output_type": "execute_result"
    }
   ],
   "source": [
    "df = pd.read_csv(r'C:\\Users\\k Sai Shashank\\Desktop\\archive\\healthcare-dataset-stroke-data.csv')\n",
    "df.head()"
   ]
  },
  {
   "cell_type": "code",
   "execution_count": 3,
   "metadata": {},
   "outputs": [
    {
     "data": {
      "text/plain": [
       "(5110, 12)"
      ]
     },
     "execution_count": 3,
     "metadata": {},
     "output_type": "execute_result"
    }
   ],
   "source": [
    "df.shape"
   ]
  },
  {
   "cell_type": "code",
   "execution_count": 4,
   "metadata": {
    "scrolled": true
   },
   "outputs": [
    {
     "name": "stdout",
     "output_type": "stream",
     "text": [
      "<class 'pandas.core.frame.DataFrame'>\n",
      "RangeIndex: 5110 entries, 0 to 5109\n",
      "Data columns (total 12 columns):\n",
      " #   Column             Non-Null Count  Dtype  \n",
      "---  ------             --------------  -----  \n",
      " 0   id                 5110 non-null   int64  \n",
      " 1   gender             5110 non-null   object \n",
      " 2   age                5110 non-null   float64\n",
      " 3   hypertension       5110 non-null   int64  \n",
      " 4   heart_disease      5110 non-null   int64  \n",
      " 5   ever_married       5110 non-null   object \n",
      " 6   work_type          5110 non-null   object \n",
      " 7   Residence_type     5110 non-null   object \n",
      " 8   avg_glucose_level  5110 non-null   float64\n",
      " 9   bmi                4909 non-null   float64\n",
      " 10  smoking_status     5110 non-null   object \n",
      " 11  stroke             5110 non-null   int64  \n",
      "dtypes: float64(3), int64(4), object(5)\n",
      "memory usage: 479.2+ KB\n"
     ]
    }
   ],
   "source": [
    "df.info()"
   ]
  },
  {
   "cell_type": "code",
   "execution_count": 5,
   "metadata": {},
   "outputs": [
    {
     "data": {
      "text/plain": [
       "id                     0\n",
       "gender                 0\n",
       "age                    0\n",
       "hypertension           0\n",
       "heart_disease          0\n",
       "ever_married           0\n",
       "work_type              0\n",
       "Residence_type         0\n",
       "avg_glucose_level      0\n",
       "bmi                  201\n",
       "smoking_status         0\n",
       "stroke                 0\n",
       "dtype: int64"
      ]
     },
     "execution_count": 5,
     "metadata": {},
     "output_type": "execute_result"
    }
   ],
   "source": [
    "df.isnull().sum()"
   ]
  },
  {
   "cell_type": "code",
   "execution_count": 6,
   "metadata": {},
   "outputs": [],
   "source": [
    "df.dropna(inplace = True)"
   ]
  },
  {
   "cell_type": "code",
   "execution_count": 7,
   "metadata": {},
   "outputs": [
    {
     "data": {
      "text/plain": [
       "id                   0\n",
       "gender               0\n",
       "age                  0\n",
       "hypertension         0\n",
       "heart_disease        0\n",
       "ever_married         0\n",
       "work_type            0\n",
       "Residence_type       0\n",
       "avg_glucose_level    0\n",
       "bmi                  0\n",
       "smoking_status       0\n",
       "stroke               0\n",
       "dtype: int64"
      ]
     },
     "execution_count": 7,
     "metadata": {},
     "output_type": "execute_result"
    }
   ],
   "source": [
    "df.isnull().sum()"
   ]
  },
  {
   "cell_type": "code",
   "execution_count": 8,
   "metadata": {},
   "outputs": [
    {
     "name": "stdout",
     "output_type": "stream",
     "text": [
      "['Male' 'Female' 'Other']\n",
      "['Yes' 'No']\n",
      "['Private' 'Self-employed' 'Govt_job' 'children' 'Never_worked']\n",
      "['Urban' 'Rural']\n",
      "['formerly smoked' 'never smoked' 'smokes' 'Unknown']\n"
     ]
    }
   ],
   "source": [
    "for i in ['gender', 'ever_married', 'work_type', 'Residence_type', 'smoking_status']:\n",
    "    print(df[i].unique())"
   ]
  },
  {
   "cell_type": "markdown",
   "metadata": {},
   "source": [
    "# EDA\n",
    "\n",
    "## BOXPLOT"
   ]
  },
  {
   "cell_type": "code",
   "execution_count": 9,
   "metadata": {},
   "outputs": [
    {
     "data": {
      "text/plain": [
       "<AxesSubplot:xlabel='stroke', ylabel='smoking_status'>"
      ]
     },
     "execution_count": 9,
     "metadata": {},
     "output_type": "execute_result"
    },
    {
     "data": {
      "image/png": "[encoded data removed]",
      "text/plain": [
       "<Figure size 432x288 with 1 Axes>"
      ]
     },
     "metadata": {
      "needs_background": "light"
     },
     "output_type": "display_data"
    }
   ],
   "source": [
    "sns.barplot(x = 'stroke', y = 'smoking_status', data = df)"
   ]
  },
  {
   "cell_type": "markdown",
   "metadata": {},
   "source": [
    "'Unknown' and 'never smoker' has a low percentage of strokes in the sample. Let's combine them into one group: 'never smoker'."
   ]
  },
  {
   "cell_type": "code",
   "execution_count": 10,
   "metadata": {},
   "outputs": [
    {
     "data": {
      "text/html": [
       "<div>\n",
       "<style scoped>\n",
       "    .dataframe tbody tr th:only-of-type {\n",
       "        vertical-align: middle;\n",
       "    }\n",
       "\n",
       "    .dataframe tbody tr th {\n",
       "        vertical-align: top;\n",
       "    }\n",
       "\n",
       "    .dataframe thead th {\n",
       "        text-align: right;\n",
       "    }\n",
       "</style>\n",
       "<table border=\"1\" class=\"dataframe\">\n",
       "  <thead>\n",
       "    <tr style=\"text-align: right;\">\n",
       "      <th></th>\n",
       "      <th>id</th>\n",
       "      <th>gender</th>\n",
       "      <th>age</th>\n",
       "      <th>hypertension</th>\n",
       "      <th>heart_disease</th>\n",
       "      <th>ever_married</th>\n",
       "      <th>work_type</th>\n",
       "      <th>Residence_type</th>\n",
       "      <th>avg_glucose_level</th>\n",
       "      <th>bmi</th>\n",
       "      <th>smoking_status</th>\n",
       "      <th>stroke</th>\n",
       "    </tr>\n",
       "  </thead>\n",
       "  <tbody>\n",
       "    <tr>\n",
       "      <th>0</th>\n",
       "      <td>9046</td>\n",
       "      <td>Male</td>\n",
       "      <td>67.0</td>\n",
       "      <td>0</td>\n",
       "      <td>1</td>\n",
       "      <td>Yes</td>\n",
       "      <td>Private</td>\n",
       "      <td>Urban</td>\n",
       "      <td>228.69</td>\n",
       "      <td>36.6</td>\n",
       "      <td>formerly smoked</td>\n",
       "      <td>1</td>\n",
       "    </tr>\n",
       "    <tr>\n",
       "      <th>2</th>\n",
       "      <td>31112</td>\n",
       "      <td>Male</td>\n",
       "      <td>80.0</td>\n",
       "      <td>0</td>\n",
       "      <td>1</td>\n",
       "      <td>Yes</td>\n",
       "      <td>Private</td>\n",
       "      <td>Rural</td>\n",
       "      <td>105.92</td>\n",
       "      <td>32.5</td>\n",
       "      <td>never smoked</td>\n",
       "      <td>1</td>\n",
       "    </tr>\n",
       "    <tr>\n",
       "      <th>3</th>\n",
       "      <td>60182</td>\n",
       "      <td>Female</td>\n",
       "      <td>49.0</td>\n",
       "      <td>0</td>\n",
       "      <td>0</td>\n",
       "      <td>Yes</td>\n",
       "      <td>Private</td>\n",
       "      <td>Urban</td>\n",
       "      <td>171.23</td>\n",
       "      <td>34.4</td>\n",
       "      <td>smokes</td>\n",
       "      <td>1</td>\n",
       "    </tr>\n",
       "    <tr>\n",
       "      <th>4</th>\n",
       "      <td>1665</td>\n",
       "      <td>Female</td>\n",
       "      <td>79.0</td>\n",
       "      <td>1</td>\n",
       "      <td>0</td>\n",
       "      <td>Yes</td>\n",
       "      <td>Self-employed</td>\n",
       "      <td>Rural</td>\n",
       "      <td>174.12</td>\n",
       "      <td>24.0</td>\n",
       "      <td>never smoked</td>\n",
       "      <td>1</td>\n",
       "    </tr>\n",
       "    <tr>\n",
       "      <th>5</th>\n",
       "      <td>56669</td>\n",
       "      <td>Male</td>\n",
       "      <td>81.0</td>\n",
       "      <td>0</td>\n",
       "      <td>0</td>\n",
       "      <td>Yes</td>\n",
       "      <td>Private</td>\n",
       "      <td>Urban</td>\n",
       "      <td>186.21</td>\n",
       "      <td>29.0</td>\n",
       "      <td>formerly smoked</td>\n",
       "      <td>1</td>\n",
       "    </tr>\n",
       "  </tbody>\n",
       "</table>\n",
       "</div>"
      ],
      "text/plain": [
       "      id  gender   age  hypertension  heart_disease ever_married  \\\n",
       "0   9046    Male  67.0             0              1          Yes   \n",
       "2  31112    Male  80.0             0              1          Yes   \n",
       "3  60182  Female  49.0             0              0          Yes   \n",
       "4   1665  Female  79.0             1              0          Yes   \n",
       "5  56669    Male  81.0             0              0          Yes   \n",
       "\n",
       "       work_type Residence_type  avg_glucose_level   bmi   smoking_status  \\\n",
       "0        Private          Urban             228.69  36.6  formerly smoked   \n",
       "2        Private          Rural             105.92  32.5     never smoked   \n",
       "3        Private          Urban             171.23  34.4           smokes   \n",
       "4  Self-employed          Rural             174.12  24.0     never smoked   \n",
       "5        Private          Urban             186.21  29.0  formerly smoked   \n",
       "\n",
       "   stroke  \n",
       "0       1  \n",
       "2       1  \n",
       "3       1  \n",
       "4       1  \n",
       "5       1  "
      ]
     },
     "execution_count": 10,
     "metadata": {},
     "output_type": "execute_result"
    }
   ],
   "source": [
    "replace_values = {'Unknown': 'never smoked'}\n",
    "\n",
    "df = df.replace({'smoking_status': replace_values})\n",
    "df.head()"
   ]
  },
  {
   "cell_type": "code",
   "execution_count": 11,
   "metadata": {
    "scrolled": true
   },
   "outputs": [
    {
     "data": {
      "text/plain": [
       "<AxesSubplot:xlabel='smoking_status', ylabel='age'>"
      ]
     },
     "execution_count": 11,
     "metadata": {},
     "output_type": "execute_result"
    },
    {
     "data": {
      "image/png": "[encoded data removed]",
      "text/plain": [
       "<Figure size 864x1440 with 10 Axes>"
      ]
     },
     "metadata": {
      "needs_background": "light"
     },
     "output_type": "display_data"
    }
   ],
   "source": [
    "fig, axes = plt.subplots(nrows = 5, ncols = 2, figsize = (12, 20))\n",
    "sns.boxplot(x = 'avg_glucose_level', data = df, ax=axes[0][0])\n",
    "sns.boxplot(x = 'age', data = df, ax=axes[1][0])\n",
    "sns.boxplot(x = 'bmi', data = df, ax=axes[2][0])\n",
    "sns.boxplot(x = 'smoking_status', y = 'age', hue = 'stroke', data = df, ax=axes[3][0])\n",
    "sns.boxplot(x = 'hypertension',y = 'age', hue = 'stroke', data = df, ax=axes[3][1])\n",
    "sns.boxplot(x = 'heart_disease', y= 'age', hue = 'stroke', data = df, ax=axes[0][1])\n",
    "sns.boxplot(x = 'ever_married',y = 'age', hue = 'stroke', data = df, ax = axes[1][1])\n",
    "sns.boxplot(x = 'work_type',y = 'age',hue = 'stroke', data = df, ax = axes[2][1])\n",
    "sns.boxplot(x = 'Residence_type',y = 'age',hue = 'stroke', data = df, ax = axes[4][0])\n",
    "sns.boxplot(x = 'smoking_status',y = 'age', hue = 'stroke', data = df, ax = axes[4][1])"
   ]
  },
  {
   "cell_type": "markdown",
   "metadata": {},
   "source": [
    "Good insights :)\n",
    "\n",
    "We have oultiers in avg_glucose_level and bmi."
   ]
  },
  {
   "cell_type": "markdown",
   "metadata": {},
   "source": [
    "### Remove outliers"
   ]
  },
  {
   "cell_type": "code",
   "execution_count": 12,
   "metadata": {},
   "outputs": [],
   "source": [
    "### Thanks for the function https://www.kaggle.com/ankitak46\n",
    "\n",
    "def remove_outliers(data):\n",
    "    arr=[]\n",
    "    #print(max(list(data)))\n",
    "    q1=np.percentile(data,25)\n",
    "    q3=np.percentile(data,75)\n",
    "    iqr=q3-q1\n",
    "    mi=q1-(1.5*iqr)\n",
    "    ma=q3+(1.5*iqr)\n",
    "    #print(mi,ma)\n",
    "    for i in list(data):\n",
    "        if i<mi:\n",
    "            i=mi\n",
    "            arr.append(i)\n",
    "        elif i>ma:\n",
    "            i=ma\n",
    "            arr.append(i)\n",
    "        else:\n",
    "            arr.append(i)\n",
    "    #print(max(arr))\n",
    "    return arr"
   ]
  },
  {
   "cell_type": "code",
   "execution_count": 13,
   "metadata": {},
   "outputs": [
    {
     "name": "stdout",
     "output_type": "stream",
     "text": [
      "Outliers successfully removed\n"
     ]
    }
   ],
   "source": [
    "df['bmi'] = remove_outliers(df['bmi'])\n",
    "df['avg_glucose_level'] = remove_outliers(df['avg_glucose_level'])\n",
    "print('Outliers successfully removed')"
   ]
  },
  {
   "cell_type": "code",
   "execution_count": 14,
   "metadata": {
    "collapsed": true
   },
   "outputs": [
    {
     "data": {
      "text/plain": [
       "<AxesSubplot:xlabel='avg_glucose_level'>"
      ]
     },
     "execution_count": 14,
     "metadata": {},
     "output_type": "execute_result"
    },
    {
     "data": {
      "image/png": "[encoded data removed]",
      "text/plain": [
       "<Figure size 720x360 with 4 Axes>"
      ]
     },
     "metadata": {
      "needs_background": "light"
     },
     "output_type": "display_data"
    }
   ],
   "source": [
    "fig, axes = plt.subplots(nrows = 2, ncols = 2, figsize = (10, 5))\n",
    "sns.boxplot(x = 'bmi', data = df, ax=axes[1][0])\n",
    "sns.boxplot(x = 'avg_glucose_level', data = df, ax=axes[0][0])"
   ]
  },
  {
   "cell_type": "code",
   "execution_count": 15,
   "metadata": {},
   "outputs": [],
   "source": [
    "df = df.drop('id', axis = 1)"
   ]
  },
  {
   "cell_type": "code",
   "execution_count": 17,
   "metadata": {},
   "outputs": [
    {
     "data": {
      "text/plain": [
       "(4909, 11)"
      ]
     },
     "execution_count": 17,
     "metadata": {},
     "output_type": "execute_result"
    }
   ],
   "source": [
    "df.shape"
   ]
  },
  {
   "cell_type": "markdown",
   "metadata": {},
   "source": [
    "# Preprocessing"
   ]
  },
  {
   "cell_type": "code",
   "execution_count": 18,
   "metadata": {},
   "outputs": [],
   "source": [
    "from sklearn.preprocessing import LabelEncoder\n",
    "le1 = LabelEncoder()\n",
    "le2=LabelEncoder()\n",
    "df['Residence_type'] = le1.fit_transform(df['Residence_type'])\n",
    "df['ever_married'] = le2.fit_transform(df['ever_married'])"
   ]
  },
  {
   "cell_type": "code",
   "execution_count": 19,
   "metadata": {},
   "outputs": [
    {
     "data": {
      "text/plain": [
       "['mar_transform']"
      ]
     },
     "execution_count": 19,
     "metadata": {},
     "output_type": "execute_result"
    }
   ],
   "source": [
    "import joblib\n",
    "joblib.dump(le1,\"res_transform\")\n",
    "joblib.dump(le2,\"mar_transform\")"
   ]
  },
  {
   "cell_type": "code",
   "execution_count": 20,
   "metadata": {},
   "outputs": [
    {
     "data": {
      "text/plain": [
       "(4909, 11)"
      ]
     },
     "execution_count": 20,
     "metadata": {},
     "output_type": "execute_result"
    }
   ],
   "source": [
    "df.shape"
   ]
  },
  {
   "cell_type": "code",
   "execution_count": 21,
   "metadata": {},
   "outputs": [
    {
     "data": {
      "text/plain": [
       "gender                          Male\n",
       "age                             67.0\n",
       "hypertension                       0\n",
       "heart_disease                      1\n",
       "ever_married                       1\n",
       "work_type                    Private\n",
       "Residence_type                     1\n",
       "avg_glucose_level             168.32\n",
       "bmi                             36.6\n",
       "smoking_status       formerly smoked\n",
       "stroke                             1\n",
       "Name: 0, dtype: object"
      ]
     },
     "execution_count": 21,
     "metadata": {},
     "output_type": "execute_result"
    }
   ],
   "source": [
    "df.iloc[0,:]"
   ]
  },
  {
   "cell_type": "code",
   "execution_count": 23,
   "metadata": {},
   "outputs": [
    {
     "data": {
      "text/html": [
       "<div>\n",
       "<style scoped>\n",
       "    .dataframe tbody tr th:only-of-type {\n",
       "        vertical-align: middle;\n",
       "    }\n",
       "\n",
       "    .dataframe tbody tr th {\n",
       "        vertical-align: top;\n",
       "    }\n",
       "\n",
       "    .dataframe thead th {\n",
       "        text-align: right;\n",
       "    }\n",
       "</style>\n",
       "<table border=\"1\" class=\"dataframe\">\n",
       "  <thead>\n",
       "    <tr style=\"text-align: right;\">\n",
       "      <th></th>\n",
       "      <th>gender</th>\n",
       "      <th>age</th>\n",
       "      <th>hypertension</th>\n",
       "      <th>heart_disease</th>\n",
       "      <th>ever_married</th>\n",
       "      <th>work_type</th>\n",
       "      <th>Residence_type</th>\n",
       "      <th>avg_glucose_level</th>\n",
       "      <th>bmi</th>\n",
       "      <th>smoking_status</th>\n",
       "      <th>stroke</th>\n",
       "    </tr>\n",
       "  </thead>\n",
       "  <tbody>\n",
       "    <tr>\n",
       "      <th>0</th>\n",
       "      <td>Male</td>\n",
       "      <td>67.0</td>\n",
       "      <td>0</td>\n",
       "      <td>1</td>\n",
       "      <td>1</td>\n",
       "      <td>Private</td>\n",
       "      <td>1</td>\n",
       "      <td>168.32</td>\n",
       "      <td>36.6</td>\n",
       "      <td>formerly smoked</td>\n",
       "      <td>1</td>\n",
       "    </tr>\n",
       "    <tr>\n",
       "      <th>2</th>\n",
       "      <td>Male</td>\n",
       "      <td>80.0</td>\n",
       "      <td>0</td>\n",
       "      <td>1</td>\n",
       "      <td>1</td>\n",
       "      <td>Private</td>\n",
       "      <td>0</td>\n",
       "      <td>105.92</td>\n",
       "      <td>32.5</td>\n",
       "      <td>never smoked</td>\n",
       "      <td>1</td>\n",
       "    </tr>\n",
       "    <tr>\n",
       "      <th>3</th>\n",
       "      <td>Female</td>\n",
       "      <td>49.0</td>\n",
       "      <td>0</td>\n",
       "      <td>0</td>\n",
       "      <td>1</td>\n",
       "      <td>Private</td>\n",
       "      <td>1</td>\n",
       "      <td>168.32</td>\n",
       "      <td>34.4</td>\n",
       "      <td>smokes</td>\n",
       "      <td>1</td>\n",
       "    </tr>\n",
       "    <tr>\n",
       "      <th>4</th>\n",
       "      <td>Female</td>\n",
       "      <td>79.0</td>\n",
       "      <td>1</td>\n",
       "      <td>0</td>\n",
       "      <td>1</td>\n",
       "      <td>Self-employed</td>\n",
       "      <td>0</td>\n",
       "      <td>168.32</td>\n",
       "      <td>24.0</td>\n",
       "      <td>never smoked</td>\n",
       "      <td>1</td>\n",
       "    </tr>\n",
       "    <tr>\n",
       "      <th>5</th>\n",
       "      <td>Male</td>\n",
       "      <td>81.0</td>\n",
       "      <td>0</td>\n",
       "      <td>0</td>\n",
       "      <td>1</td>\n",
       "      <td>Private</td>\n",
       "      <td>1</td>\n",
       "      <td>168.32</td>\n",
       "      <td>29.0</td>\n",
       "      <td>formerly smoked</td>\n",
       "      <td>1</td>\n",
       "    </tr>\n",
       "  </tbody>\n",
       "</table>\n",
       "</div>"
      ],
      "text/plain": [
       "   gender   age  hypertension  heart_disease  ever_married      work_type  \\\n",
       "0    Male  67.0             0              1             1        Private   \n",
       "2    Male  80.0             0              1             1        Private   \n",
       "3  Female  49.0             0              0             1        Private   \n",
       "4  Female  79.0             1              0             1  Self-employed   \n",
       "5    Male  81.0             0              0             1        Private   \n",
       "\n",
       "   Residence_type  avg_glucose_level   bmi   smoking_status  stroke  \n",
       "0               1             168.32  36.6  formerly smoked       1  \n",
       "2               0             105.92  32.5     never smoked       1  \n",
       "3               1             168.32  34.4           smokes       1  \n",
       "4               0             168.32  24.0     never smoked       1  \n",
       "5               1             168.32  29.0  formerly smoked       1  "
      ]
     },
     "execution_count": 23,
     "metadata": {},
     "output_type": "execute_result"
    }
   ],
   "source": [
    "df.head()"
   ]
  },
  {
   "cell_type": "code",
   "execution_count": 24,
   "metadata": {},
   "outputs": [],
   "source": [
    "X = df.iloc[:,0:10].values\n",
    "y = df.iloc[:,10].values"
   ]
  },
  {
   "cell_type": "code",
   "execution_count": 25,
   "metadata": {},
   "outputs": [],
   "source": [
    "from sklearn.compose import ColumnTransformer\n",
    "from sklearn.preprocessing import OneHotEncoder\n",
    "ct= ColumnTransformer([(\"onehot\",OneHotEncoder(drop='first'),[0,5,9])],remainder=\"passthrough\")\n",
    "X=ct.fit_transform(X)"
   ]
  },
  {
   "cell_type": "code",
   "execution_count": 26,
   "metadata": {},
   "outputs": [
    {
     "data": {
      "text/plain": [
       "['column']"
      ]
     },
     "execution_count": 26,
     "metadata": {},
     "output_type": "execute_result"
    }
   ],
   "source": [
    "joblib.dump(ct,\"column\")"
   ]
  },
  {
   "cell_type": "code",
   "execution_count": 28,
   "metadata": {},
   "outputs": [
    {
     "data": {
      "text/plain": [
       "array([[1.0, 0.0, 0.0, ..., 1, 168.32, 36.6],\n",
       "       [1.0, 0.0, 0.0, ..., 0, 105.92, 32.5],\n",
       "       [0.0, 0.0, 0.0, ..., 1, 168.32, 34.4],\n",
       "       ...,\n",
       "       [0.0, 0.0, 0.0, ..., 0, 82.99, 30.6],\n",
       "       [1.0, 0.0, 0.0, ..., 0, 166.29, 25.6],\n",
       "       [0.0, 0.0, 0.0, ..., 1, 85.28, 26.2]], dtype=object)"
      ]
     },
     "execution_count": 28,
     "metadata": {},
     "output_type": "execute_result"
    }
   ],
   "source": [
    "X"
   ]
  },
  {
   "cell_type": "code",
   "execution_count": 29,
   "metadata": {},
   "outputs": [
    {
     "data": {
      "text/plain": [
       "array([1.0, 0.0, 0.0, 1.0, 0.0, 0.0, 0.0, 0.0, 67.0, 0, 1, 1, 1, 168.32,\n",
       "       36.6], dtype=object)"
      ]
     },
     "execution_count": 29,
     "metadata": {},
     "output_type": "execute_result"
    }
   ],
   "source": [
    "X[0]"
   ]
  },
  {
   "cell_type": "markdown",
   "metadata": {},
   "source": [
    "# Model"
   ]
  },
  {
   "cell_type": "code",
   "execution_count": 30,
   "metadata": {},
   "outputs": [
    {
     "data": {
      "text/plain": [
       "(4909, 15)"
      ]
     },
     "execution_count": 30,
     "metadata": {},
     "output_type": "execute_result"
    }
   ],
   "source": [
    "X.shape"
   ]
  },
  {
   "cell_type": "code",
   "execution_count": 31,
   "metadata": {},
   "outputs": [
    {
     "data": {
      "text/plain": [
       "(4909,)"
      ]
     },
     "execution_count": 31,
     "metadata": {},
     "output_type": "execute_result"
    }
   ],
   "source": [
    "y.shape"
   ]
  },
  {
   "cell_type": "markdown",
   "metadata": {},
   "source": [
    "### We use sampling because there is an imbalance of the target feature"
   ]
  },
  {
   "cell_type": "code",
   "execution_count": 34,
   "metadata": {},
   "outputs": [
    {
     "data": {
      "text/plain": [
       "<AxesSubplot:ylabel='count'>"
      ]
     },
     "execution_count": 34,
     "metadata": {},
     "output_type": "execute_result"
    },
    {
     "data": {
      "image/png": "[encoded data removed]",
      "text/plain": [
       "<Figure size 432x288 with 1 Axes>"
      ]
     },
     "metadata": {
      "needs_background": "light"
     },
     "output_type": "display_data"
    }
   ],
   "source": [
    "### before oversampling\n",
    "\n",
    "sns.countplot(y)"
   ]
  },
  {
   "cell_type": "code",
   "execution_count": 35,
   "metadata": {},
   "outputs": [
    {
     "name": "stdout",
     "output_type": "stream",
     "text": [
      "Before OverSampling, counts of label '1': 209\n",
      "Before OverSampling, counts of label '0': 4700 \n",
      "\n",
      "After OverSampling, the shape of train_X: (9400, 15)\n",
      "After OverSampling, the shape of train_y: (9400,) \n",
      "\n",
      "After OverSampling, counts of label '1': 4700\n",
      "After OverSampling, counts of label '0': 4700\n"
     ]
    }
   ],
   "source": [
    "from imblearn.over_sampling import SMOTE\n",
    "\n",
    "sm = SMOTE()\n",
    "X_res, y_res = sm.fit_resample(X, y)\n",
    "\n",
    "print(\"Before OverSampling, counts of label '1': {}\".format(sum(y==1)))\n",
    "print(\"Before OverSampling, counts of label '0': {} \\n\".format(sum(y==0)))\n",
    "\n",
    "print('After OverSampling, the shape of train_X: {}'.format(X_res.shape))\n",
    "print('After OverSampling, the shape of train_y: {} \\n'.format(y_res.shape))\n",
    "\n",
    "print(\"After OverSampling, counts of label '1': {}\".format(sum(y_res==1)))\n",
    "print(\"After OverSampling, counts of label '0': {}\".format(sum(y_res==0)))"
   ]
  },
  {
   "cell_type": "code",
   "execution_count": 37,
   "metadata": {},
   "outputs": [
    {
     "data": {
      "text/plain": [
       "<AxesSubplot:ylabel='count'>"
      ]
     },
     "execution_count": 37,
     "metadata": {},
     "output_type": "execute_result"
    },
    {
     "data": {
      "image/png": "[encoded data removed]",
      "text/plain": [
       "<Figure size 432x288 with 1 Axes>"
      ]
     },
     "metadata": {
      "needs_background": "light"
     },
     "output_type": "display_data"
    }
   ],
   "source": [
    "### after oversampling\n",
    "\n",
    "sns.countplot(y_res)"
   ]
  },
  {
   "cell_type": "markdown",
   "metadata": {},
   "source": [
    "Oversampling is successful"
   ]
  },
  {
   "cell_type": "markdown",
   "metadata": {},
   "source": [
    "# Modeling"
   ]
  },
  {
   "cell_type": "code",
   "execution_count": 38,
   "metadata": {},
   "outputs": [],
   "source": [
    "from sklearn.model_selection import train_test_split\n",
    "X_train, X_test, y_train, y_test = train_test_split(X_res, y_res, test_size = 0.2, random_state = 42)"
   ]
  },
  {
   "cell_type": "markdown",
   "metadata": {},
   "source": [
    "## Decision Tree"
   ]
  },
  {
   "cell_type": "code",
   "execution_count": 39,
   "metadata": {},
   "outputs": [
    {
     "name": "stdout",
     "output_type": "stream",
     "text": [
      "[[870  34]\n",
      " [ 52 924]]\n",
      "-----\n",
      "              precision    recall  f1-score   support\n",
      "\n",
      "         0.0       0.94      0.96      0.95       904\n",
      "         1.0       0.96      0.95      0.96       976\n",
      "\n",
      "    accuracy                           0.95      1880\n",
      "   macro avg       0.95      0.95      0.95      1880\n",
      "weighted avg       0.95      0.95      0.95      1880\n",
      "\n"
     ]
    }
   ],
   "source": [
    "dtc = DecisionTreeClassifier()\n",
    "dtc.fit(X_train, y_train)\n",
    "dtc_pred = dtc.predict(X_test)\n",
    "print(confusion_matrix(dtc_pred, y_test))\n",
    "print('-----')\n",
    "print(classification_report(dtc_pred, y_test))"
   ]
  },
  {
   "cell_type": "markdown",
   "metadata": {},
   "source": [
    "## Random Forest"
   ]
  },
  {
   "cell_type": "code",
   "execution_count": 40,
   "metadata": {},
   "outputs": [
    {
     "name": "stdout",
     "output_type": "stream",
     "text": [
      "[[912  40]\n",
      " [ 10 918]]\n",
      "-----\n",
      "              precision    recall  f1-score   support\n",
      "\n",
      "         0.0       0.99      0.96      0.97       952\n",
      "         1.0       0.96      0.99      0.97       928\n",
      "\n",
      "    accuracy                           0.97      1880\n",
      "   macro avg       0.97      0.97      0.97      1880\n",
      "weighted avg       0.97      0.97      0.97      1880\n",
      "\n"
     ]
    }
   ],
   "source": [
    "rf = RandomForestClassifier()\n",
    "rf.fit(X_train, y_train)\n",
    "rf_pred = rf.predict(X_test)\n",
    "print(confusion_matrix(rf_pred, y_test))\n",
    "print('-----')\n",
    "print(classification_report(rf_pred, y_test))"
   ]
  },
  {
   "cell_type": "markdown",
   "metadata": {},
   "source": [
    "### It's best F1 score"
   ]
  },
  {
   "cell_type": "markdown",
   "metadata": {},
   "source": [
    "## Logistic Regression"
   ]
  },
  {
   "cell_type": "code",
   "execution_count": 41,
   "metadata": {},
   "outputs": [
    {
     "name": "stdout",
     "output_type": "stream",
     "text": [
      "[[691 171]\n",
      " [231 787]]\n",
      "-----\n",
      "              precision    recall  f1-score   support\n",
      "\n",
      "         0.0       0.75      0.80      0.77       862\n",
      "         1.0       0.82      0.77      0.80      1018\n",
      "\n",
      "    accuracy                           0.79      1880\n",
      "   macro avg       0.79      0.79      0.79      1880\n",
      "weighted avg       0.79      0.79      0.79      1880\n",
      "\n"
     ]
    }
   ],
   "source": [
    "lr = LogisticRegression()\n",
    "lr.fit(X_train, y_train)\n",
    "lr_pred = lr.predict(X_test)\n",
    "print(confusion_matrix(lr_pred, y_test))\n",
    "print('-----')\n",
    "print(classification_report(lr_pred, y_test))"
   ]
  },
  {
   "cell_type": "markdown",
   "metadata": {},
   "source": [
    "## SVC"
   ]
  },
  {
   "cell_type": "code",
   "execution_count": 42,
   "metadata": {},
   "outputs": [
    {
     "name": "stdout",
     "output_type": "stream",
     "text": [
      "[[640 147]\n",
      " [282 811]]\n",
      "-----\n",
      "              precision    recall  f1-score   support\n",
      "\n",
      "         0.0       0.69      0.81      0.75       787\n",
      "         1.0       0.85      0.74      0.79      1093\n",
      "\n",
      "    accuracy                           0.77      1880\n",
      "   macro avg       0.77      0.78      0.77      1880\n",
      "weighted avg       0.78      0.77      0.77      1880\n",
      "\n"
     ]
    }
   ],
   "source": [
    "svc = SVC()\n",
    "svc.fit(X_train, y_train)\n",
    "svc_pred = svc.predict(X_test)\n",
    "print(confusion_matrix(svc_pred, y_test))\n",
    "print('-----')\n",
    "print(classification_report(svc_pred, y_test))"
   ]
  },
  {
   "cell_type": "markdown",
   "metadata": {},
   "source": [
    "## KNN"
   ]
  },
  {
   "cell_type": "code",
   "execution_count": 43,
   "metadata": {},
   "outputs": [
    {
     "name": "stdout",
     "output_type": "stream",
     "text": [
      "[[757  15]\n",
      " [165 943]]\n",
      "-----\n",
      "              precision    recall  f1-score   support\n",
      "\n",
      "         0.0       0.82      0.98      0.89       772\n",
      "         1.0       0.98      0.85      0.91      1108\n",
      "\n",
      "    accuracy                           0.90      1880\n",
      "   macro avg       0.90      0.92      0.90      1880\n",
      "weighted avg       0.92      0.90      0.91      1880\n",
      "\n"
     ]
    }
   ],
   "source": [
    "knn = KNeighborsClassifier()\n",
    "knn.fit(X_train, y_train)\n",
    "knn_pred = knn.predict(X_test)\n",
    "print(confusion_matrix(knn_pred, y_test))\n",
    "print('-----')\n",
    "print(classification_report(knn_pred, y_test))"
   ]
  },
  {
   "cell_type": "markdown",
   "metadata": {},
   "source": [
    "# Grid Search"
   ]
  },
  {
   "cell_type": "code",
   "execution_count": 44,
   "metadata": {},
   "outputs": [],
   "source": [
    "cross_valid_scores = {}"
   ]
  },
  {
   "cell_type": "markdown",
   "metadata": {},
   "source": [
    "## Decision Tree"
   ]
  },
  {
   "cell_type": "code",
   "execution_count": 45,
   "metadata": {},
   "outputs": [
    {
     "name": "stdout",
     "output_type": "stream",
     "text": [
      "              precision    recall  f1-score   support\n",
      "\n",
      "         0.0       0.95      0.96      0.95       919\n",
      "         1.0       0.96      0.96      0.96       961\n",
      "\n",
      "    accuracy                           0.96      1880\n",
      "   macro avg       0.96      0.96      0.96      1880\n",
      "weighted avg       0.96      0.96      0.96      1880\n",
      "\n",
      "-----\n",
      "Best parameters {'max_depth': 13}\n",
      "Mean cross-validated accuracy score of the best_estimator: 0.946\n",
      "-----\n",
      "Wall time: 1.78 s\n"
     ]
    }
   ],
   "source": [
    "%%time\n",
    "parameters = {\n",
    "    \"max_depth\": [3, 5, 7, 9, 11, 13],\n",
    "}\n",
    "\n",
    "model_dtc = DecisionTreeClassifier(\n",
    "    random_state=42,\n",
    "    class_weight='balanced',\n",
    ")\n",
    "\n",
    "model_dtc = GridSearchCV(\n",
    "    model_dtc, \n",
    "    parameters, \n",
    "    cv=5,\n",
    ")\n",
    "\n",
    "model_dtc.fit(X_train, y_train)\n",
    "model_dtc_pred = model_dtc.predict(X_test)\n",
    "print(classification_report(model_dtc_pred, y_test))\n",
    "\n",
    "print('-----')\n",
    "print(f'Best parameters {model_dtc.best_params_}')\n",
    "print(\n",
    "    f'Mean cross-validated accuracy score of the best_estimator: ' + \\\n",
    "    f'{model_dtc.best_score_:.3f}'\n",
    ")\n",
    "cross_valid_scores['desicion_tree'] = model_dtc.best_score_\n",
    "print('-----')\n"
   ]
  },
  {
   "cell_type": "markdown",
   "metadata": {},
   "source": [
    "## Random Forest"
   ]
  },
  {
   "cell_type": "code",
   "execution_count": 46,
   "metadata": {},
   "outputs": [
    {
     "name": "stdout",
     "output_type": "stream",
     "text": [
      "              precision    recall  f1-score   support\n",
      "\n",
      "         0.0       0.99      0.96      0.97       954\n",
      "         1.0       0.96      0.99      0.97       926\n",
      "\n",
      "    accuracy                           0.97      1880\n",
      "   macro avg       0.97      0.97      0.97      1880\n",
      "weighted avg       0.97      0.97      0.97      1880\n",
      "\n",
      "-----\n",
      "Best parameters {'max_depth': 13, 'n_estimators': 20}\n",
      "Mean cross-validated accuracy score of the best_estimator: 0.972\n",
      "-----\n",
      "Wall time: 30.8 s\n"
     ]
    }
   ],
   "source": [
    "%%time\n",
    "parameters = {\n",
    "    \"n_estimators\": [5, 10, 15, 20, 25], \n",
    "    \"max_depth\": [3, 5, 7, 9, 11, 13],\n",
    "}\n",
    "\n",
    "model_rf = RandomForestClassifier(\n",
    "    random_state=42,\n",
    "    class_weight='balanced',\n",
    ")\n",
    "\n",
    "model_rf = GridSearchCV(\n",
    "    model_rf, \n",
    "    parameters, \n",
    "    cv=5,\n",
    ")\n",
    "\n",
    "model_rf.fit(X_train, y_train)\n",
    "model_rf_pred = model_rf.predict(X_test)\n",
    "print(classification_report(model_rf_pred, y_test))\n",
    "\n",
    "print('-----')\n",
    "print(f'Best parameters {model_rf.best_params_}')\n",
    "print(\n",
    "    f'Mean cross-validated accuracy score of the best_estimator: '+ \\\n",
    "    f'{model_rf.best_score_:.3f}'\n",
    ")\n",
    "cross_valid_scores['random_forest'] = model_rf.best_score_\n",
    "print('-----')"
   ]
  },
  {
   "cell_type": "code",
   "execution_count": 47,
   "metadata": {},
   "outputs": [
    {
     "data": {
      "text/plain": [
       "['model']"
      ]
     },
     "execution_count": 47,
     "metadata": {},
     "output_type": "execute_result"
    }
   ],
   "source": [
    "import joblib\n",
    "joblib.dump(model_rf,\"model\")"
   ]
  },
  {
   "cell_type": "markdown",
   "metadata": {},
   "source": [
    "## XGBoost"
   ]
  },
  {
   "cell_type": "code",
   "execution_count": 48,
   "metadata": {},
   "outputs": [
    {
     "name": "stdout",
     "output_type": "stream",
     "text": [
      "              precision    recall  f1-score   support\n",
      "\n",
      "         0.0       0.99      0.95      0.97       964\n",
      "         1.0       0.95      0.99      0.97       916\n",
      "\n",
      "    accuracy                           0.97      1880\n",
      "   macro avg       0.97      0.97      0.97      1880\n",
      "weighted avg       0.97      0.97      0.97      1880\n",
      "\n",
      "-----\n",
      "Best parameters {'learning_rate': 0.1, 'max_depth': 5, 'n_estimators': 100}\n",
      "Mean cross-validated accuracy score of the best_estimator: 0.974\n",
      "-----\n",
      "Wall time: 2min 2s\n"
     ]
    }
   ],
   "source": [
    "%%time\n",
    "parameters = {\n",
    "    'max_depth': [3, 5, 7, 9], \n",
    "    'n_estimators': [5, 10, 15, 20, 25, 50, 100],\n",
    "    'learning_rate': [0.01, 0.05, 0.1]\n",
    "}\n",
    "\n",
    "model_xgb = xgb.XGBClassifier(\n",
    "    random_state=42, verbosity = 0\n",
    ")\n",
    "\n",
    "model_xgb = GridSearchCV(\n",
    "    model_xgb, \n",
    "    parameters, \n",
    "    cv=5,\n",
    "    scoring='accuracy',\n",
    ")\n",
    "\n",
    "model_xgb.fit(X_train, y_train)\n",
    "model_xgb_pred = model_xgb.predict(X_test)\n",
    "print(classification_report(model_xgb_pred, y_test))\n",
    "\n",
    "\n",
    "print('-----')\n",
    "print(f'Best parameters {model_xgb.best_params_}')\n",
    "print(\n",
    "    f'Mean cross-validated accuracy score of the best_estimator: ' + \n",
    "    f'{model_xgb.best_score_:.3f}'\n",
    ")\n",
    "cross_valid_scores['xgboost'] = model_xgb.best_score_\n",
    "print('-----')"
   ]
  },
  {
   "cell_type": "markdown",
   "metadata": {},
   "source": [
    "## LightGBM"
   ]
  },
  {
   "cell_type": "code",
   "execution_count": 49,
   "metadata": {},
   "outputs": [
    {
     "name": "stdout",
     "output_type": "stream",
     "text": [
      "              precision    recall  f1-score   support\n",
      "\n",
      "         0.0       1.00      0.95      0.97       968\n",
      "         1.0       0.95      1.00      0.97       912\n",
      "\n",
      "    accuracy                           0.97      1880\n",
      "   macro avg       0.97      0.97      0.97      1880\n",
      "weighted avg       0.97      0.97      0.97      1880\n",
      "\n",
      "-----\n",
      "Best parameters {'learning_rate': 0.1, 'n_estimators': 100, 'num_leaves': 7}\n",
      "Mean cross-validated accuracy score of the best_estimator: 0.975\n",
      "-----\n",
      "Wall time: 27 s\n"
     ]
    }
   ],
   "source": [
    "%%time\n",
    "parameters = {\n",
    "    'n_estimators': [5, 10, 15, 20, 25, 50, 100],\n",
    "    'learning_rate': [0.01, 0.05, 0.1],\n",
    "    'num_leaves': [7, 15, 31],\n",
    "}\n",
    "\n",
    "model_lgbm = lgbm.LGBMClassifier(\n",
    "    random_state=42,\n",
    "    class_weight='balanced',\n",
    ")\n",
    "\n",
    "model_lgbm = GridSearchCV(\n",
    "    model_lgbm, \n",
    "    parameters, \n",
    "    cv=5)\n",
    "\n",
    "model_lgbm.fit(X_train, y_train)\n",
    "model_lgbm_pred = model_lgbm.predict(X_test)\n",
    "print(classification_report(model_lgbm_pred, y_test))\n",
    "\n",
    "print('-----')\n",
    "print(f'Best parameters {model_lgbm.best_params_}')\n",
    "print(\n",
    "    f'Mean cross-validated accuracy score of the best_estimator: ' + \n",
    "    f'{model_lgbm.best_score_:.3f}'\n",
    ")\n",
    "cross_valid_scores['lightgbm'] = model_lgbm.best_score_\n",
    "print('-----')"
   ]
  },
  {
   "cell_type": "markdown",
   "metadata": {},
   "source": [
    "## Adaboost"
   ]
  },
  {
   "cell_type": "code",
   "execution_count": 50,
   "metadata": {},
   "outputs": [
    {
     "name": "stdout",
     "output_type": "stream",
     "text": [
      "              precision    recall  f1-score   support\n",
      "\n",
      "         0.0       0.99      0.95      0.97       970\n",
      "         1.0       0.94      0.99      0.97       910\n",
      "\n",
      "    accuracy                           0.97      1880\n",
      "   macro avg       0.97      0.97      0.97      1880\n",
      "weighted avg       0.97      0.97      0.97      1880\n",
      "\n",
      "-----\n",
      "Best parameters {'learning_rate': 1.0, 'n_estimators': 100}\n",
      "Mean cross-validated accuracy score of the best_estimator: 0.968\n",
      "-----\n",
      "Wall time: 1min 38s\n"
     ]
    }
   ],
   "source": [
    "%%time\n",
    "parameters = {\n",
    "    \"n_estimators\": [5, 10, 15, 20, 25, 50, 75, 100], \n",
    "    \"learning_rate\": [0.001, 0.01, 0.1, 1.],\n",
    "}\n",
    "\n",
    "model_adaboost = AdaBoostClassifier(\n",
    "    random_state=42,\n",
    ")\n",
    "\n",
    "model_adaboost = GridSearchCV(\n",
    "    model_adaboost, \n",
    "    parameters, \n",
    "    cv=5,\n",
    "    scoring='accuracy',\n",
    ")\n",
    "\n",
    "model_adaboost.fit(X_train, y_train)\n",
    "model_adaboost_pred = model_adaboost.predict(X_test)\n",
    "print(classification_report(model_adaboost_pred, y_test))\n",
    "\n",
    "print('-----')\n",
    "print(f'Best parameters {model_adaboost.best_params_}')\n",
    "print(\n",
    "    f'Mean cross-validated accuracy score of the best_estimator: '+ \\\n",
    "    f'{model_adaboost.best_score_:.3f}'\n",
    ")\n",
    "cross_valid_scores['ada_boost'] = model_adaboost.best_score_\n",
    "print('-----')"
   ]
  },
  {
   "cell_type": "markdown",
   "metadata": {},
   "source": [
    "## Logistic Regression"
   ]
  },
  {
   "cell_type": "code",
   "execution_count": 51,
   "metadata": {},
   "outputs": [
    {
     "name": "stdout",
     "output_type": "stream",
     "text": [
      "              precision    recall  f1-score   support\n",
      "\n",
      "         0.0       0.75      0.81      0.78       858\n",
      "         1.0       0.83      0.78      0.80      1022\n",
      "\n",
      "    accuracy                           0.79      1880\n",
      "   macro avg       0.79      0.79      0.79      1880\n",
      "weighted avg       0.79      0.79      0.79      1880\n",
      "\n",
      "-----\n",
      "Best parameters {'C': 1.0, 'penalty': 'l2'}\n",
      "Mean cross-validated accuracy score of the best_estimator: 0.784\n",
      "-----\n",
      "Wall time: 3.24 s\n"
     ]
    }
   ],
   "source": [
    "%%time\n",
    "parameters = {\n",
    "    \"C\": [0.001, 0.01, 0.1, 1.],\n",
    "    \"penalty\": [\"l1\", \"l2\"]\n",
    "}\n",
    "\n",
    "model_lr = LogisticRegression(\n",
    "    random_state=42,\n",
    "    class_weight=\"balanced\",\n",
    "    solver=\"liblinear\",\n",
    ")\n",
    "\n",
    "model_lr = GridSearchCV(\n",
    "    model_lr, \n",
    "    parameters, \n",
    "    cv=5,\n",
    "    scoring='accuracy',\n",
    ")\n",
    "\n",
    "model_lr.fit(X_train, y_train)\n",
    "model_lr_pred = model_lr.predict(X_test)\n",
    "print(classification_report(model_lr_pred, y_test))\n",
    "\n",
    "print('-----')\n",
    "print(f'Best parameters {model_lr.best_params_}')\n",
    "print(\n",
    "    f'Mean cross-validated accuracy score of the best_estimator: ' + \n",
    "    f'{model_lr.best_score_:.3f}'\n",
    ")\n",
    "cross_valid_scores['logistic_regression'] = model_lr.best_score_\n",
    "print('-----')"
   ]
  },
  {
   "cell_type": "markdown",
   "metadata": {},
   "source": [
    "## KNN"
   ]
  },
  {
   "cell_type": "code",
   "execution_count": 52,
   "metadata": {},
   "outputs": [
    {
     "name": "stdout",
     "output_type": "stream",
     "text": [
      "              precision    recall  f1-score   support\n",
      "\n",
      "         0.0       0.83      0.99      0.90       772\n",
      "         1.0       0.99      0.85      0.92      1108\n",
      "\n",
      "    accuracy                           0.91      1880\n",
      "   macro avg       0.91      0.92      0.91      1880\n",
      "weighted avg       0.92      0.91      0.91      1880\n",
      "\n",
      "-----\n",
      "Best parameters {'weights': 'distance'}\n",
      "Mean cross-validated accuracy score of the best_estimator: 0.887\n",
      "-----\n",
      "Wall time: 1.65 s\n"
     ]
    }
   ],
   "source": [
    "%%time\n",
    "parameters = {\n",
    "    \"weights\": [\"uniform\", \"distance\"],\n",
    "}\n",
    "\n",
    "model_k_neighbors = KNeighborsClassifier(\n",
    ")\n",
    "\n",
    "model_k_neighbors = GridSearchCV(\n",
    "    model_k_neighbors, \n",
    "    parameters, \n",
    "    cv=5,\n",
    "    scoring='accuracy',\n",
    ")\n",
    "\n",
    "model_k_neighbors.fit(X_train, y_train)\n",
    "model_k_neighbors_pred = model_k_neighbors.predict(X_test)\n",
    "print(classification_report(model_k_neighbors_pred, y_test))\n",
    "\n",
    "print('-----')\n",
    "print(f'Best parameters {model_k_neighbors.best_params_}')\n",
    "print(\n",
    "    f'Mean cross-validated accuracy score of the best_estimator: ' + \n",
    "    f'{model_k_neighbors.best_score_:.3f}'\n",
    ")\n",
    "cross_valid_scores['k_neighbors'] = model_k_neighbors.best_score_\n",
    "print('-----')"
   ]
  },
  {
   "cell_type": "markdown",
   "metadata": {},
   "source": [
    "# Thank for watching!"
   ]
  }
 ],
 "metadata": {
  "kernelspec": {
   "display_name": "Python 3 (ipykernel)",
   "language": "python",
   "name": "python3"
  },
  "language_info": {
   "codemirror_mode": {
    "name": "ipython",
    "version": 3
   },
   "file_extension": ".py",
   "mimetype": "text/x-python",
   "name": "python",
   "nbconvert_exporter": "python",
   "pygments_lexer": "ipython3",
   "version": "3.9.12"
  }
 },
 "nbformat": 4,
 "nbformat_minor": 4
}
